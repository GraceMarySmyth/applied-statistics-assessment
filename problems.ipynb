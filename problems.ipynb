{
 "cells": [
  {
   "cell_type": "markdown",
   "id": "e1a1f826",
   "metadata": {},
   "source": [
    "# Advanced Statistics Problems Notebook"
   ]
  },
  {
   "cell_type": "markdown",
   "id": "237e48c5",
   "metadata": {},
   "source": [
    "This is the notebook containing the problems and solutions from problems.md. As per the guidelines I will follow the Python coding standards and guidelines such as PEP8. The only packages that can be used are contained below as per requirements.txt in the problems brief"
   ]
  },
  {
   "cell_type": "code",
   "execution_count": null,
   "id": "fd3c38fa",
   "metadata": {
    "vscode": {
     "languageId": "plaintext"
    }
   },
   "outputs": [],
   "source": [
    "ipython\n",
    "numpy\n",
    "scipy\n",
    "statsmodels\n",
    "matplotlib\n",
    "pandas\n",
    "seaborn\n",
    "# sympy\n",
    "# nose\n",
    "# scikit-learn\n",
    "# qiskit[visualization]\n",
    "# yfinance"
   ]
  },
  {
   "cell_type": "markdown",
   "id": "a306ba21",
   "metadata": {},
   "source": [
    "## Problem 1: Extending the Lady Tasting Tea"
   ]
  },
  {
   "cell_type": "markdown",
   "id": "2a0bae27",
   "metadata": {},
   "source": [
    "Let's extend the Lady Tasting Tea experiment as follows. The original experiment has 8 cups: 4 tea-first and 4 milk-first. Suppose we prepare 12 cups: 8 tea-first and 4 milk-first. A participant claims they can tell which was poured first.\n",
    "\n",
    "Simulate this experiment using numpy by randomly shuffling the cups many times and calculating the probability of the participant correctly identifying all cups by chance. Compare your result with the original 8-cup experiment.\n",
    "\n",
    "In your notebook, explain your simulation process clearly, report and interpret the estimated probability, and discuss whether, based on this probability, you would consider extending or relaxing the p-value threshold compared to the original design.\n",
    "\n",
    "(applied-statistics/assessment\n",
    "/problems.md Ian McLoughlan)"
   ]
  },
  {
   "cell_type": "code",
   "execution_count": null,
   "id": "23fd5dbd",
   "metadata": {},
   "outputs": [],
   "source": []
  },
  {
   "cell_type": "markdown",
   "id": "c68d5756",
   "metadata": {},
   "source": [
    "## Problem 2: Normal Distribution"
   ]
  },
  {
   "cell_type": "markdown",
   "id": "4a4509e5",
   "metadata": {},
   "source": [
    "Generate 100,000 samples of size 10 from the standard normal distribution. For each sample, compute the standard deviation with ddof=1 (sample SD) and with ddof=0 (population SD). Plot histograms of both sets of values on the same axes with transparency. Describe the differences you see. Explain how you expect these differences to change if the sample size is increased.\n",
    "\n",
    "(applied-statistics/assessment\n",
    "/problems.md Ian McLoughlan)"
   ]
  },
  {
   "cell_type": "code",
   "execution_count": null,
   "id": "f4ff68fa",
   "metadata": {},
   "outputs": [],
   "source": []
  },
  {
   "cell_type": "markdown",
   "id": "d49bb7ee",
   "metadata": {},
   "source": [
    "## Problem 3: t-Tests"
   ]
  },
  {
   "cell_type": "markdown",
   "id": "8a9d794c",
   "metadata": {},
   "source": [
    "A type II error occurs when a test fails to reject the null hypothesis even though it is false. For each mean difference \n",
    "d\n",
    "=\n",
    "0\n",
    ",\n",
    "0.1\n",
    ",\n",
    "0.2\n",
    ",\n",
    "…\n",
    ",\n",
    "1.0\n",
    ", repeat the following simulation 1,000 times:\n",
    "\n",
    "Draw two samples of size 100, one from the standard normal distribution and one from the normal distribution with mean \n",
    "d\n",
    " and standard deviation 1.\n",
    "Run an independent samples t-test on the two samples, rejecting the null hypothesis if the p-value is less than 0.05.\n",
    "Record the proportion of times the null hypothesis is not rejected.\n",
    "Plot this proportion against \n",
    "d\n",
    ", and explain how the type II error rate changes as the difference in means increases."
   ]
  },
  {
   "cell_type": "markdown",
   "id": "f0cbfe5c",
   "metadata": {},
   "source": [
    "## Problem 4: ANOVA"
   ]
  },
  {
   "cell_type": "markdown",
   "id": "3d37e3fe",
   "metadata": {},
   "source": [
    "Generate three independent samples, each of size 30, from normal distributions with means 0, 0.5, and 1, each with standard deviation 1.\n",
    "\n",
    "Perform a one-way ANOVA to test whether all three means are equal.\n",
    "Perform three independent two-sample t-tests: samples 1 vs 2, 1 vs 3, and 2 vs 3.\n",
    "Compare the conclusions.\n",
    "Write a short note on why ANOVA is preferred over running several t-tests."
   ]
  },
  {
   "cell_type": "code",
   "execution_count": null,
   "id": "6736d0d3",
   "metadata": {},
   "outputs": [],
   "source": []
  },
  {
   "cell_type": "markdown",
   "id": "b8f1cc8c",
   "metadata": {},
   "source": [
    "## END"
   ]
  }
 ],
 "metadata": {
  "language_info": {
   "name": "python"
  }
 },
 "nbformat": 4,
 "nbformat_minor": 5
}
